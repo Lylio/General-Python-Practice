{
 "cells": [
  {
   "cell_type": "code",
   "execution_count": 1,
   "metadata": {},
   "outputs": [],
   "source": [
    "import cv2"
   ]
  },
  {
   "cell_type": "code",
   "execution_count": 4,
   "metadata": {},
   "outputs": [
    {
     "data": {
      "text/plain": [
       "array([[ 85, 146, 203,  85,  24],\n",
       "       [221,  85, 157, 177, 177],\n",
       "       [ 24,  24, 146, 177, 203]], dtype=uint8)"
      ]
     },
     "execution_count": 4,
     "metadata": {},
     "output_type": "execute_result"
    }
   ],
   "source": [
    "img_gray = cv2.imread(\"smallgray.png\", 0)\n",
    "img_gray"
   ]
  },
  {
   "cell_type": "code",
   "execution_count": 6,
   "metadata": {},
   "outputs": [
    {
     "data": {
      "text/plain": [
       "array([[[102, 102, 253],\n",
       "        [107,  93,  14],\n",
       "        [ 65, 149,  61],\n",
       "        [ 54,  54, 255],\n",
       "        [116, 125, 143]],\n",
       "\n",
       "       [[107,  93,  14],\n",
       "        [243, 125, 217],\n",
       "        [102, 102, 253],\n",
       "        [243, 125, 217],\n",
       "        [ 99, 228, 233]],\n",
       "\n",
       "       [[ 65, 149,  61],\n",
       "        [ 24,  24,  24],\n",
       "        [164,  32,  63],\n",
       "        [ 99, 228, 233],\n",
       "        [ 59,  96,  26]]], dtype=uint8)"
      ]
     },
     "execution_count": 6,
     "metadata": {},
     "output_type": "execute_result"
    }
   ],
   "source": [
    "img_colour = cv2.imread(\"smallcolour.png\", 1)\n",
    "img_colour"
   ]
  },
  {
   "cell_type": "code",
   "execution_count": 8,
   "metadata": {},
   "outputs": [
    {
     "name": "stdout",
     "output_type": "stream",
     "text": [
      "[[[102 102 253]\n",
      "  [107  93  14]\n",
      "  [ 65 149  61]\n",
      "  [ 54  54 255]\n",
      "  [116 125 143]]\n",
      "\n",
      " [[107  93  14]\n",
      "  [243 125 217]\n",
      "  [102 102 253]\n",
      "  [243 125 217]\n",
      "  [ 99 228 233]]\n",
      "\n",
      " [[ 65 149  61]\n",
      "  [ 24  24  24]\n",
      "  [164  32  63]\n",
      "  [ 99 228 233]\n",
      "  [ 59  96  26]]]\n"
     ]
    }
   ],
   "source": [
    "print(img_colour)"
   ]
  },
  {
   "cell_type": "code",
   "execution_count": 3,
   "metadata": {},
   "outputs": [
    {
     "data": {
      "text/plain": [
       "True"
      ]
     },
     "execution_count": 3,
     "metadata": {},
     "output_type": "execute_result"
    }
   ],
   "source": [
    "import numpy\n",
    "import cv2\n",
    "newImage = numpy.array([[101,28,3,49], [101,28,3,49], [101,28,3,49]])\n",
    "cv2.imwrite(\"newgray.png\", newImage)"
   ]
  },
  {
   "cell_type": "code",
   "execution_count": 2,
   "metadata": {},
   "outputs": [
    {
     "data": {
      "text/plain": [
       "True"
      ]
     },
     "execution_count": 2,
     "metadata": {},
     "output_type": "execute_result"
    }
   ],
   "source": [
    "import numpy\n",
    "import cv2\n",
    "newImage2 = numpy.array([[0,0,0,0], [0,0,0,0], [0,0,0,0]])\n",
    "\n",
    "cv2.imwrite(\"newgray2.png\", newImage2)"
   ]
  }
 ],
 "metadata": {
  "kernelspec": {
   "display_name": "Python 3",
   "language": "python",
   "name": "python3"
  },
  "language_info": {
   "codemirror_mode": {
    "name": "ipython",
    "version": 3
   },
   "file_extension": ".py",
   "mimetype": "text/x-python",
   "name": "python",
   "nbconvert_exporter": "python",
   "pygments_lexer": "ipython3",
   "version": "3.6.5"
  }
 },
 "nbformat": 4,
 "nbformat_minor": 2
}
